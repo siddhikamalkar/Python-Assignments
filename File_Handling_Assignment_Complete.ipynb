{
  "cells": [
    {
      "cell_type": "code",
      "execution_count": null,
      "id": "cff137b5",
      "metadata": {
        "id": "cff137b5"
      },
      "outputs": [],
      "source": [
        "# Q1 What is the difference between interpreted and compiled languages\n",
        "# Interpreted languages are executed line-by-line by an interpreter at runtime, translating each statement into machine-level operations as the program runs.\n",
        "# This makes them flexible and easy to test interactively, helpful during development and debugging because errors surface immediately and code changes can be tried without a separate compile step.\n",
        "# Compiled languages are transformed by a compiler into machine code (or an intermediate form like bytecode) before execution, producing an executable that runs directly on the hardware (or virtual machine).\n",
        "# Compilation often yields better runtime performance and earlier detection of some classes of errors, but requires an explicit compile step and can slow down the edit-compile-run cycle.\n"
      ]
    },
    {
      "cell_type": "code",
      "execution_count": null,
      "id": "f0543d81",
      "metadata": {
        "id": "f0543d81"
      },
      "outputs": [],
      "source": [
        "# Q2 What is exception handling in Python\n",
        "# Exception handling in Python is a structured mechanism to catch and respond to runtime errors (exceptions) that would otherwise crash a program.\n",
        "# Using try/except blocks, developers can isolate risky operations, catch specific exceptions, and provide fallback behavior or informative error messages instead of letting the program terminate unexpectedly.\n",
        "# Proper exception handling improves program robustness and user experience by enabling graceful degradation, logging of problems, and controlled cleanup of resources such as files or network connections.\n"
      ]
    },
    {
      "cell_type": "code",
      "execution_count": null,
      "id": "a9d05ab0",
      "metadata": {
        "id": "a9d05ab0"
      },
      "outputs": [],
      "source": [
        "# Q3 What is the purpose of the finally block in exception handling\n",
        "# The finally block is part of the try/except/finally construct and is guaranteed to run whether an exception was raised or not.\n",
        "# It's primarily used for cleanup tasks that must happen regardless of success or failure (e.g., closing files, releasing locks, or rolling back transactions).\n",
        "# Because finally always executes, it's a safe place to put resource-release code or actions that should not be skipped even when exceptions are propagated further up the call stack.\n"
      ]
    },
    {
      "cell_type": "code",
      "execution_count": null,
      "id": "c37d8895",
      "metadata": {
        "id": "c37d8895"
      },
      "outputs": [],
      "source": [
        "# Q4 What is logging in Python\n",
        "# Logging in Python is the practice of recording program events, informational messages, warnings, and errors to a destination such as the console or a file.\n",
        "# Python's `logging` module provides a flexible framework for emitting log records with different severity levels and formats.\n",
        "# Logging helps during development, debugging, and production monitoring by offering historical records of what the program did, when, and why — which is invaluable for troubleshooting and auditing.\n"
      ]
    },
    {
      "cell_type": "code",
      "execution_count": null,
      "id": "32eda4db",
      "metadata": {
        "id": "32eda4db"
      },
      "outputs": [],
      "source": [
        "# Q5 What is the significance of the __del__ method in Python\n",
        "# The __del__ method in Python is a special method called when an object is about to be destroyed (its reference count reaches zero or the garbage collector finalizes it).\n",
        "# It can be used to perform cleanup tasks such as closing file descriptors or network sockets that are tied to the object.\n",
        "# However, relying on __del__ is generally discouraged for critical cleanup because object destruction timing is non-deterministic in some Python implementations (e.g., when circular references exist or in implementations using different GC strategies).\n",
        "# Context managers and explicit close methods are preferred.\n"
      ]
    },
    {
      "cell_type": "code",
      "execution_count": null,
      "id": "13aa4b8d",
      "metadata": {
        "id": "13aa4b8d"
      },
      "outputs": [],
      "source": [
        "# Q6 What is the difference between import and from ... import in Python\n",
        "# `import module` loads the entire module and requires you to reference its members with the module name (e.g., `module.func()`).\n",
        "# This keeps the namespace explicit and avoids name collisions by keeping imported names inside the module namespace.\n",
        "# `from module import name` imports specific attributes directly into the current namespace so you can use them without a module prefix (e.g., `func()`).\n",
        "# This can be convenient but increases the risk of name conflicts and reduces readability if overused.\n"
      ]
    },
    {
      "cell_type": "code",
      "execution_count": null,
      "id": "80a5088b",
      "metadata": {
        "id": "80a5088b"
      },
      "outputs": [],
      "source": [
        "# Q7 How can you handle multiple exceptions in Python\n",
        "# Multiple exceptions can be handled by using multiple except blocks, each targeting a specific exception type, allowing different responses tailored to each error.\n",
        "# Alternatively, a single except can catch a tuple of exception types and handle them with the same logic.\n",
        "# Example patterns:\n",
        "# try: ...\n",
        "# except ValueError: ...\n",
        "# except (TypeError, KeyError): ...\n",
        "# Using broad `except Exception` is possible but should be used sparingly to avoid hiding bugs unintentionally.\n"
      ]
    },
    {
      "cell_type": "code",
      "execution_count": null,
      "id": "06b2e760",
      "metadata": {
        "id": "06b2e760"
      },
      "outputs": [],
      "source": [
        "# Q8 What is the purpose of the with statement when handling files in Python\n",
        "# The `with` statement creates a context in which a resource is used and ensures that the resource's cleanup code (via the context manager's __exit__ method) runs automatically at the end of the block.\n",
        "# For files, this means the file is closed automatically even if an exception occurs inside the block.\n",
        "# Using `with open(...) as f:` makes code safer, shorter, and clearer compared to manually opening and closing files, and it reduces the risk of resource leaks.\n"
      ]
    },
    {
      "cell_type": "code",
      "execution_count": null,
      "id": "f01b0680",
      "metadata": {
        "id": "f01b0680"
      },
      "outputs": [],
      "source": [
        "# Q9 What is the difference between multithreading and multiprocessing\n",
        "# Multithreading runs multiple threads within a single process; threads share the same memory space which makes communication cheap but introduces complexity around synchronization.\n",
        "# In CPython, the Global Interpreter Lock (GIL) prevents true parallel execution of Python bytecode in multiple threads, limiting CPU-bound performance gains from threading.\n",
        "# Multiprocessing runs separate processes with independent memory spaces. This provides true parallelism across CPU cores and avoids GIL constraints, but inter-process communication is more expensive and requires explicit mechanisms (pipes, queues, shared memory).\n"
      ]
    },
    {
      "cell_type": "code",
      "execution_count": null,
      "id": "177b9908",
      "metadata": {
        "id": "177b9908"
      },
      "outputs": [],
      "source": [
        "# Q10 What are the advantages of using logging in a program\n",
        "# Logging provides persistent records of program activity which aids debugging, monitoring, and compliance.\n",
        "# It supports multiple severity levels, flexible formatting, and configurable destinations (console, files, remote servers), which makes it suitable for both development-time inspection and production observability.\n",
        "# Compared to ad-hoc prints, logging can be turned on or off or filtered by severity without changing the program code extensively, and logs can be rotated, aggregated, and analyzed by external tools.\n"
      ]
    },
    {
      "cell_type": "code",
      "execution_count": null,
      "id": "67dbb428",
      "metadata": {
        "id": "67dbb428"
      },
      "outputs": [],
      "source": [
        "# Q11 What is memory management in Python\n",
        "# Memory management in Python is the set of mechanisms that allocate and reclaim memory for objects so programs can run without exhausting system resources.\n",
        "# The Python runtime handles memory allocation for objects and keeps track of references to determine when objects are no longer needed.\n",
        "# Effective memory management minimizes leaks and excessive memory usage, improving performance and allowing long-running programs to remain stable. Programmers can aid the runtime by releasing large references and avoiding unnecessary global data structures.\n"
      ]
    },
    {
      "cell_type": "code",
      "execution_count": null,
      "id": "885baf2f",
      "metadata": {
        "id": "885baf2f"
      },
      "outputs": [],
      "source": [
        "# Q12 What are the basic steps involved in exception handling in Python\n",
        "# Basic steps in exception handling typically include: identifying code likely to raise exceptions; wrapping that code in a try block; adding except blocks for specific exceptions to handle known error types; optionally using else for operations that should run when no exception occurs; and finally using finally for guaranteed cleanup.\n",
        "# Additionally, it's good practice to log exceptions, avoid catching overly broad exceptions, and design error-handling strategies that preserve program invariants and allow safe recovery.\n"
      ]
    },
    {
      "cell_type": "code",
      "execution_count": null,
      "id": "54b9d8b7",
      "metadata": {
        "id": "54b9d8b7"
      },
      "outputs": [],
      "source": [
        "# Q13 Why is memory management important in Python\n",
        "# Memory management is important because it ensures that a program uses system resources efficiently and avoids crashes or degraded performance due to memory exhaustion.\n",
        "#  For server or long-running applications, poor memory management can cause out-of-memory errors, slow performance, or instability.\n",
        "# Python automates a lot of memory management, but developers still need to be careful with large data structures, caching, and retaining references that prevent garbage collection.\n"
      ]
    },
    {
      "cell_type": "code",
      "execution_count": null,
      "id": "0c32d5b2",
      "metadata": {
        "id": "0c32d5b2"
      },
      "outputs": [],
      "source": [
        "# Q14 What is the role of try and except in exception handling\n",
        "# `try` marks a block of code where exceptions may occur; `except` provides handlers for specific exception types that may be raised within the try block.\n",
        "# Together they allow the program to catch errors, log them, and either recover or fail gracefully.\n",
        "# Proper use of try/except isolates error-prone operations and prevents the entire program from crashing when recoverable exceptions occur, while still allowing unexpected exceptions to surface during development.\n"
      ]
    },
    {
      "cell_type": "code",
      "execution_count": null,
      "id": "ae58c075",
      "metadata": {
        "id": "ae58c075"
      },
      "outputs": [],
      "source": [
        "# Q15 How does Python's garbage collection system work\n",
        "# Python's garbage collection uses reference counting as its primary mechanism: each object keeps a count of references to it and when this count reaches zero the memory can be immediately reclaimed.\n",
        "# To handle reference cycles (objects referencing each other), Python also includes a cyclic garbage collector that periodically identifies and frees groups of objects that are unreachable but reference each other.\n",
        "# This combination typically relieves developers from manual memory management, though it means that finalization timing (e.g., __del__ calls) can be non-deterministic in some cases when cycles are involved.\n"
      ]
    },
    {
      "cell_type": "code",
      "execution_count": null,
      "id": "3f27ec11",
      "metadata": {
        "id": "3f27ec11"
      },
      "outputs": [],
      "source": [
        "# Q16 What is the purpose of the else block in exception handling\n",
        "# The else block in a try/except construct runs only if the try block completed without raising an exception.\n",
        "# It's useful for code that should execute when no error occurred, separating successful-path logic from error-handling logic and cleanup (which belongs in finally).\n",
        "# Using else improves readability by clearly distinguishing normal execution from exception handling.\n"
      ]
    },
    {
      "cell_type": "code",
      "execution_count": null,
      "id": "fe042f72",
      "metadata": {
        "id": "fe042f72"
      },
      "outputs": [],
      "source": [
        "# Q17 What are the common logging levels in Python\n",
        "# Common logging levels in Python are DEBUG (detailed diagnostic information), INFO (confirmation that things are working as expected), WARNING (an indication something unexpected happened or may happen soon), ERROR (a more serious problem that prevented a function from performing a task), and CRITICAL (a severe error indicating the program may be unable to continue).\n",
        "# Choosing appropriate levels helps filter logs and prioritize responses during monitoring and debugging.\n"
      ]
    },
    {
      "cell_type": "code",
      "execution_count": null,
      "id": "99fab509",
      "metadata": {
        "id": "99fab509"
      },
      "outputs": [],
      "source": [
        "# Q18 What is the difference between os.fork() and multiprocessing in Python\n",
        "# `os.fork()` is a low-level POSIX system call that creates a new child process by duplicating the current process; it is available on Unix-like systems and is not portable to Windows.\n",
        "# After fork, both processes continue executing independently from the return point, which requires careful handling to avoid resource duplication problems (e.g., open sockets).\n",
        "# The multiprocessing module in Python provides a higher-level, cross-platform API to spawn processes and manage communication between them.\n",
        "#  It abstracts away many details of forking and can use different start methods (fork, spawn, forkserver) for portability and safety.\n"
      ]
    },
    {
      "cell_type": "code",
      "execution_count": null,
      "id": "440e7173",
      "metadata": {
        "id": "440e7173"
      },
      "outputs": [],
      "source": [
        "# Q19 What is the importance of closing a file in Python\n",
        "# Closing a file is important because it flushes buffered data to disk, releases file descriptors, and ensures other processes can access or modify the file safely.\n",
        "# Leaving files open can exhaust system file descriptors and lead to data loss if buffered writes are not flushed.\n",
        "# The `with` statement simplifies this by ensuring files are closed automatically even in the presence of exceptions.\n"
      ]
    },
    {
      "cell_type": "code",
      "execution_count": null,
      "id": "9b50eff2",
      "metadata": {
        "id": "9b50eff2"
      },
      "outputs": [],
      "source": [
        "# Q20 What is the difference between file.read() and file.readline() in Python\n",
        "# `file.read()` reads the entire remaining contents of the file as a single string (or up to an optional size parameter), while `file.readline()` reads a single line at a time including its trailing newline.\n",
        "# `read()` is convenient for small files, while `readline()` (or iterating the file) is more memory-friendly for large files because it avoids loading the whole file into memory at once.\n",
        "# There is also `readlines()` which returns a list of all lines, but it similarly loads everything into memory.\n"
      ]
    },
    {
      "cell_type": "code",
      "execution_count": null,
      "id": "8f9ff09f",
      "metadata": {
        "id": "8f9ff09f"
      },
      "outputs": [],
      "source": [
        "# Q21 What is the logging module in Python used for\n",
        "# The logging module provides functions and classes to create log records, route them to handlers (console, files, network), filter them by severity, and format them.\n",
        "# It supports hierarchical loggers, configuration via code or configuration files, and integration with other libraries.\n",
        "# The module is the standard way to instrument applications for diagnostics, monitoring, and auditing.\n"
      ]
    },
    {
      "cell_type": "code",
      "execution_count": null,
      "id": "7cf3ad9e",
      "metadata": {
        "id": "7cf3ad9e"
      },
      "outputs": [],
      "source": [
        "# Q22 What is the os module in Python used for in file handling\n",
        "# The os module exposes operating-system-level functionality such as file and directory operations, path manipulation, environment variables, and process management.\n",
        "# In file handling it is commonly used to check file existence, remove files, rename files, get file metadata, and work with directory trees.\n",
        "# Using os.path and pathlib together with os lets you write portable and robust file handling code across operating systems.\n"
      ]
    },
    {
      "cell_type": "code",
      "execution_count": null,
      "id": "aa1b6337",
      "metadata": {
        "id": "aa1b6337"
      },
      "outputs": [],
      "source": [
        "# Q23 What are the challenges associated with memory management in Python\n",
        "# Challenges in memory management include handling large datasets that exceed available memory, avoiding memory leaks caused by lingering references or caches, and dealing with fragmentation.\n",
        "# Python's automatic memory management reduces but does not eliminate these issues; developers must still profile and optimize memory usage in long-running or memory-hungry applications.\n",
        "# Additional challenges arise when integrating with native libraries that allocate memory outside Python's control, requiring careful explicit deallocation or wrappers that manage native resources safely.\n"
      ]
    },
    {
      "cell_type": "code",
      "execution_count": null,
      "id": "1c14fb3f",
      "metadata": {
        "id": "1c14fb3f"
      },
      "outputs": [],
      "source": [
        "# Q24 How do you raise an exception manually in Python\n",
        "# You raise an exception manually in Python by using the `raise` statement with an exception instance or class (e.g., `raise ValueError('bad input')`).\n",
        "# Raising exceptions explicitly is useful to signal error conditions in your code or to validate inputs and enforce invariants.\n",
        "# When re-raising caught exceptions, use `raise` without arguments to preserve the original traceback, which aids debugging.\n"
      ]
    },
    {
      "cell_type": "code",
      "execution_count": null,
      "id": "cfe17fff",
      "metadata": {
        "id": "cfe17fff"
      },
      "outputs": [],
      "source": [
        "# Q25 Why is it important to use multithreading in certain applications?\n",
        "# Multithreading is important in applications that perform I/O-bound tasks (networking, disk I/O, waiting for external services) where threads can overlap waiting time and keep the CPU busy with other work.\n",
        "# It simplifies concurrency when tasks need shared memory and low-latency communication.\n",
        "# While CPU-bound tasks are limited by the GIL in CPython, for I/O-bound workloads threading provides an easy way to improve throughput and responsiveness, and in other Python implementations or when using extension modules that release the GIL, threads can also run in parallel.\n"
      ]
    },
    {
      "cell_type": "code",
      "execution_count": 1,
      "id": "2dacb1ce",
      "metadata": {
        "colab": {
          "base_uri": "https://localhost:8080/"
        },
        "id": "2dacb1ce",
        "outputId": "1dcfff9d-e13b-4887-e6b2-4c89e4512084"
      },
      "outputs": [
        {
          "output_type": "stream",
          "name": "stdout",
          "text": [
            "Wrote to practical_sample.txt\n",
            "Content read back:\n",
            "Hello, this is a sample file created for the assignment.\n",
            "\n"
          ]
        }
      ],
      "source": [
        "\n",
        "# Q1 How can you open a file for writing in Python and write a string to it\n",
        "with open(\"practical_sample.txt\", \"w\") as f:\n",
        "    f.write(\"Hello, this is a sample file created for the assignment.\\n\")\n",
        "print(\"Wrote to practical_sample.txt\")\n",
        "with open(\"practical_sample.txt\", \"r\") as f:\n",
        "    print(\"Content read back:\")\n",
        "    print(f.read())\n"
      ]
    },
    {
      "cell_type": "code",
      "execution_count": 2,
      "id": "b6da2cb4",
      "metadata": {
        "colab": {
          "base_uri": "https://localhost:8080/"
        },
        "id": "b6da2cb4",
        "outputId": "e86c2ae5-9eb9-42f2-86bf-221a68b851f1"
      },
      "outputs": [
        {
          "output_type": "stream",
          "name": "stdout",
          "text": [
            "Reading practical_sample.txt line by line:\n",
            "Line 1: Hello, this is a sample file created for the assignment.\n"
          ]
        }
      ],
      "source": [
        "\n",
        "# Q2 Read a file and print each line\n",
        "print(\"Reading practical_sample.txt line by line:\")\n",
        "with open(\"practical_sample.txt\", \"r\") as f:\n",
        "    for idx, line in enumerate(f, 1):\n",
        "        print(f\"Line {idx}: {line.strip()}\")\n"
      ]
    },
    {
      "cell_type": "code",
      "execution_count": 3,
      "id": "f35dbf0c",
      "metadata": {
        "colab": {
          "base_uri": "https://localhost:8080/"
        },
        "id": "f35dbf0c",
        "outputId": "5d59c2ea-bc4a-4cc8-cf73-f15938a3cf4e"
      },
      "outputs": [
        {
          "output_type": "stream",
          "name": "stdout",
          "text": [
            "Handled error: [Errno 2] No such file or directory: 'file_does_not_exist.txt'\n"
          ]
        }
      ],
      "source": [
        "\n",
        "# Q3 Handle case where the file doesn't exist\n",
        "try:\n",
        "    with open(\"file_does_not_exist.txt\", \"r\") as f:\n",
        "        print(f.read())\n",
        "except FileNotFoundError as e:\n",
        "    print(\"Handled error:\", e)\n"
      ]
    },
    {
      "cell_type": "code",
      "execution_count": 4,
      "id": "5fea8d68",
      "metadata": {
        "colab": {
          "base_uri": "https://localhost:8080/"
        },
        "id": "5fea8d68",
        "outputId": "1ec36926-f2c7-42fe-b92d-f9eb7c9310ba"
      },
      "outputs": [
        {
          "output_type": "stream",
          "name": "stdout",
          "text": [
            "Copied practical_sample.txt to practical_copy.txt\n",
            "Hello, this is a sample file created for the assignment.\n",
            "\n"
          ]
        }
      ],
      "source": [
        "\n",
        "# Q4 Copy content from one file to another\n",
        "with open(\"practical_sample.txt\", \"r\") as src, open(\"practical_copy.txt\", \"w\") as dst:\n",
        "    for line in src:\n",
        "        dst.write(line)\n",
        "print(\"Copied practical_sample.txt to practical_copy.txt\")\n",
        "with open(\"practical_copy.txt\", \"r\") as f:\n",
        "    print(f.read())\n"
      ]
    },
    {
      "cell_type": "code",
      "execution_count": 5,
      "id": "78516eb6",
      "metadata": {
        "colab": {
          "base_uri": "https://localhost:8080/"
        },
        "id": "78516eb6",
        "outputId": "f684a6f6-a84d-41d7-82a8-98f90aaabe3a"
      },
      "outputs": [
        {
          "output_type": "stream",
          "name": "stdout",
          "text": [
            "safe_divide(10, 2) -> 5.0\n",
            "Caught ZeroDivisionError: division by zero\n",
            "safe_divide(5, 0) -> None\n"
          ]
        }
      ],
      "source": [
        "\n",
        "# Q5 Catch and handle division by zero\n",
        "def safe_divide(a, b):\n",
        "    try:\n",
        "        return a / b\n",
        "    except ZeroDivisionError as e:\n",
        "        print(\"Caught ZeroDivisionError:\", e)\n",
        "        return None\n",
        "\n",
        "print(\"safe_divide(10, 2) ->\", safe_divide(10, 2))\n",
        "print(\"safe_divide(5, 0) ->\", safe_divide(5, 0))\n"
      ]
    },
    {
      "cell_type": "code",
      "execution_count": 7,
      "id": "7298caad",
      "metadata": {
        "colab": {
          "base_uri": "https://localhost:8080/"
        },
        "id": "7298caad",
        "outputId": "f6b20c4e-a14e-4153-a8d0-35d0a136d5dd"
      },
      "outputs": [
        {
          "output_type": "stream",
          "name": "stderr",
          "text": [
            "ERROR:root:Division by zero: division by zero\n"
          ]
        },
        {
          "output_type": "stream",
          "name": "stdout",
          "text": [
            "Logged division by zero to practical_errors.log\n",
            "Log file not found!\n"
          ]
        }
      ],
      "source": [
        "# Q6 Fixed: Log an error when division by zero occurs\n",
        "import logging, os, time\n",
        "\n",
        "log_file = \"practical_errors.log\"\n",
        "logging.basicConfig(filename=log_file, level=logging.INFO,\n",
        "                    format=\"%(asctime)s - %(levelname)s - %(message)s\")\n",
        "\n",
        "def logged_divide(a, b):\n",
        "    try:\n",
        "        return a / b\n",
        "    except ZeroDivisionError as e:\n",
        "        logging.error(\"Division by zero: %s\", e)\n",
        "        print(\"Logged division by zero to practical_errors.log\")\n",
        "        # flush handlers to ensure file write\n",
        "        for handler in logging.getLogger().handlers:\n",
        "            handler.flush()\n",
        "        return None\n",
        "\n",
        "logged_divide(4, 0)\n",
        "\n",
        "# Wait a tiny bit to ensure file is written\n",
        "time.sleep(0.2)\n",
        "\n",
        "if os.path.exists(log_file):\n",
        "    with open(log_file, \"r\") as lf:\n",
        "        print(\"Log contents:\")\n",
        "        print(lf.read())\n",
        "else:\n",
        "    print(\"Log file not found!\")\n"
      ]
    },
    {
      "cell_type": "code",
      "execution_count": 8,
      "id": "377542b4",
      "metadata": {
        "colab": {
          "base_uri": "https://localhost:8080/"
        },
        "id": "377542b4",
        "outputId": "92964356-8c49-4ab6-f69e-8688fadb0b8d"
      },
      "outputs": [
        {
          "output_type": "stream",
          "name": "stderr",
          "text": [
            "DEBUG:practical_logger:This is a DEBUG message\n",
            "INFO:practical_logger:This is an INFO message\n",
            "WARNING:practical_logger:This is a WARNING message\n",
            "ERROR:practical_logger:This is an ERROR message\n",
            "CRITICAL:practical_logger:This is a CRITICAL message\n"
          ]
        },
        {
          "output_type": "stream",
          "name": "stdout",
          "text": [
            "Wrote different level logs to practical_levels.log\n",
            "2025-10-14 17:42:02,142 - DEBUG - This is a DEBUG message\n",
            "2025-10-14 17:42:02,144 - INFO - This is an INFO message\n",
            "2025-10-14 17:42:02,145 - WARNING - This is a WARNING message\n",
            "2025-10-14 17:42:02,148 - ERROR - This is an ERROR message\n",
            "2025-10-14 17:42:02,149 - CRITICAL - This is a CRITICAL message\n",
            "\n"
          ]
        }
      ],
      "source": [
        "\n",
        "# Q7 Logging at different levels\n",
        "logger = logging.getLogger(\"practical_logger\")\n",
        "logger.setLevel(logging.DEBUG)\n",
        "# Add a file handler so output persists\n",
        "fh = logging.FileHandler(\"practical_levels.log\")\n",
        "fmt = logging.Formatter(\"%(asctime)s - %(levelname)s - %(message)s\")\n",
        "fh.setFormatter(fmt)\n",
        "logger.addHandler(fh)\n",
        "\n",
        "logger.debug(\"This is a DEBUG message\")\n",
        "logger.info(\"This is an INFO message\")\n",
        "logger.warning(\"This is a WARNING message\")\n",
        "logger.error(\"This is an ERROR message\")\n",
        "logger.critical(\"This is a CRITICAL message\")\n",
        "\n",
        "print(\"Wrote different level logs to practical_levels.log\")\n",
        "with open(\"practical_levels.log\", \"r\") as f:\n",
        "    print(f.read())\n"
      ]
    },
    {
      "cell_type": "code",
      "execution_count": 9,
      "id": "347a1955",
      "metadata": {
        "colab": {
          "base_uri": "https://localhost:8080/"
        },
        "id": "347a1955",
        "outputId": "5ca3a9d7-4f23-4e18-e04f-1c08124e8f51"
      },
      "outputs": [
        {
          "output_type": "stream",
          "name": "stdout",
          "text": [
            "Error opening file: FileNotFoundError [Errno 2] No such file or directory: 'maybe_missing.txt'\n"
          ]
        }
      ],
      "source": [
        "\n",
        "# Q8 Handle a file opening error with try/except\n",
        "try:\n",
        "    f = open(\"maybe_missing.txt\", \"r\")\n",
        "except Exception as e:\n",
        "    print(\"Error opening file:\", type(e).__name__, e)\n",
        "else:\n",
        "    print(\"File opened successfully\")\n",
        "    f.close()\n"
      ]
    },
    {
      "cell_type": "code",
      "execution_count": 10,
      "id": "23cfc5d6",
      "metadata": {
        "colab": {
          "base_uri": "https://localhost:8080/"
        },
        "id": "23cfc5d6",
        "outputId": "bdb9b453-3803-40b6-edc3-78f4b1bc542a"
      },
      "outputs": [
        {
          "output_type": "stream",
          "name": "stdout",
          "text": [
            "Lines stored in list: ['Hello, this is a sample file created for the assignment.']\n"
          ]
        }
      ],
      "source": [
        "\n",
        "# Q9 Read file line by line into a list\n",
        "lines_list = []\n",
        "with open(\"practical_sample.txt\", \"r\") as f:\n",
        "    for line in f:\n",
        "        lines_list.append(line.rstrip(\"\\n\"))\n",
        "print(\"Lines stored in list:\", lines_list)\n"
      ]
    },
    {
      "cell_type": "code",
      "execution_count": 11,
      "id": "1954ffee",
      "metadata": {
        "colab": {
          "base_uri": "https://localhost:8080/"
        },
        "id": "1954ffee",
        "outputId": "5728b45f-af16-46a5-d17b-faffb92f7a50"
      },
      "outputs": [
        {
          "output_type": "stream",
          "name": "stdout",
          "text": [
            "Appended a line. New content:\n",
            "Hello, this is a sample file created for the assignment.\n",
            "This line was appended.\n",
            "\n"
          ]
        }
      ],
      "source": [
        "\n",
        "# Q10 Append data to an existing file\n",
        "with open(\"practical_sample.txt\", \"a\") as f:\n",
        "    f.write(\"This line was appended.\\n\")\n",
        "print(\"Appended a line. New content:\")\n",
        "with open(\"practical_sample.txt\", \"r\") as f:\n",
        "    print(f.read())\n"
      ]
    },
    {
      "cell_type": "code",
      "execution_count": 12,
      "id": "4ed85104",
      "metadata": {
        "colab": {
          "base_uri": "https://localhost:8080/"
        },
        "id": "4ed85104",
        "outputId": "dca2ce5a-9a44-4c9f-c6a5-23897ddf3c79"
      },
      "outputs": [
        {
          "output_type": "stream",
          "name": "stdout",
          "text": [
            "Handled KeyError: 'c'\n"
          ]
        }
      ],
      "source": [
        "\n",
        "# Q11 Handle missing dictionary key error\n",
        "d = {\"a\": 1, \"b\": 2}\n",
        "try:\n",
        "    print(\"Accessing d['c']:\", d[\"c\"])\n",
        "except KeyError as e:\n",
        "    print(\"Handled KeyError:\", e)\n"
      ]
    },
    {
      "cell_type": "code",
      "execution_count": 13,
      "id": "8a59183b",
      "metadata": {
        "colab": {
          "base_uri": "https://localhost:8080/"
        },
        "id": "8a59183b",
        "outputId": "73e7b440-9948-4e67-f622-4d0dd8d79e8c"
      },
      "outputs": [
        {
          "output_type": "stream",
          "name": "stdout",
          "text": [
            "Caught ZeroDivisionError\n",
            "Divide: 5.0\n",
            "Caught IndexError\n"
          ]
        }
      ],
      "source": [
        "\n",
        "# Q12 Multiple except blocks example\n",
        "def risky_op(x, y, seq):\n",
        "    try:\n",
        "        print(\"Divide:\", x / y)\n",
        "        print(\"Index:\", seq[5])\n",
        "    except ZeroDivisionError:\n",
        "        print(\"Caught ZeroDivisionError\")\n",
        "    except IndexError:\n",
        "        print(\"Caught IndexError\")\n",
        "    except Exception as e:\n",
        "        print(\"Caught general exception:\", e)\n",
        "\n",
        "risky_op(10, 0, [1,2,3])\n",
        "risky_op(10, 2, [1,2])\n"
      ]
    },
    {
      "cell_type": "code",
      "execution_count": 14,
      "id": "53ae9d43",
      "metadata": {
        "colab": {
          "base_uri": "https://localhost:8080/"
        },
        "id": "53ae9d43",
        "outputId": "2c7b07ac-28ed-4fda-fedd-bf49d2257a76"
      },
      "outputs": [
        {
          "output_type": "stream",
          "name": "stdout",
          "text": [
            "Does practical_sample.txt exist? True\n",
            "Does practical_copy.txt exist? True\n"
          ]
        }
      ],
      "source": [
        "\n",
        "# Q13 Check if file exists using os.path or pathlib\n",
        "import os\n",
        "print(\"Does practical_sample.txt exist?\", os.path.exists(\"practical_sample.txt\"))\n",
        "from pathlib import Path\n",
        "print(\"Does practical_copy.txt exist?\", Path(\"practical_copy.txt\").is_file())\n"
      ]
    },
    {
      "cell_type": "code",
      "execution_count": 15,
      "id": "491e5cbc",
      "metadata": {
        "colab": {
          "base_uri": "https://localhost:8080/"
        },
        "id": "491e5cbc",
        "outputId": "e612e57a-5eee-4a22-ec54-3b55881c989c"
      },
      "outputs": [
        {
          "output_type": "stream",
          "name": "stderr",
          "text": [
            "INFO:info_error_logger:This is an informational message\n",
            "ERROR:info_error_logger:An error occurred: division by zero\n"
          ]
        },
        {
          "output_type": "stream",
          "name": "stdout",
          "text": [
            "Wrote info and error to practical_info_error.log\n",
            "2025-10-14 17:42:23,148 - INFO - This is an informational message\n",
            "2025-10-14 17:42:23,149 - ERROR - An error occurred: division by zero\n",
            "\n"
          ]
        }
      ],
      "source": [
        "\n",
        "# Q14 Log informational and error messages\n",
        "logger2 = logging.getLogger(\"info_error_logger\")\n",
        "logger2.setLevel(logging.INFO)\n",
        "fh2 = logging.FileHandler(\"practical_info_error.log\")\n",
        "fh2.setFormatter(fmt)\n",
        "logger2.addHandler(fh2)\n",
        "\n",
        "logger2.info(\"This is an informational message\")\n",
        "try:\n",
        "    1 / 0\n",
        "except ZeroDivisionError as e:\n",
        "    logger2.error(\"An error occurred: %s\", e)\n",
        "\n",
        "print(\"Wrote info and error to practical_info_error.log\")\n",
        "with open(\"practical_info_error.log\", \"r\") as f:\n",
        "    print(f.read())\n"
      ]
    },
    {
      "cell_type": "code",
      "execution_count": 16,
      "id": "3fa4324b",
      "metadata": {
        "colab": {
          "base_uri": "https://localhost:8080/"
        },
        "id": "3fa4324b",
        "outputId": "f9fe02b1-f592-4247-dd74-0a105c0c1b82"
      },
      "outputs": [
        {
          "output_type": "stream",
          "name": "stdout",
          "text": [
            "File content:\n",
            "Hello, this is a sample file created for the assignment.\n",
            "This line was appended.\n",
            "\n"
          ]
        }
      ],
      "source": [
        "\n",
        "# Q15 Print file content and handle empty file\n",
        "from pathlib import Path\n",
        "p = Path(\"practical_sample.txt\")\n",
        "if not p.exists():\n",
        "    print(\"File does not exist\")\n",
        "elif p.stat().st_size == 0:\n",
        "    print(\"File exists but is empty\")\n",
        "else:\n",
        "    with open(p, \"r\") as f:\n",
        "        print(\"File content:\")\n",
        "        print(f.read())\n"
      ]
    },
    {
      "cell_type": "code",
      "execution_count": 17,
      "id": "59c31423",
      "metadata": {
        "colab": {
          "base_uri": "https://localhost:8080/"
        },
        "id": "59c31423",
        "outputId": "ab7ea80d-7f89-4c69-956d-23ce1db9acc6"
      },
      "outputs": [
        {
          "output_type": "stream",
          "name": "stdout",
          "text": [
            "Current memory usage: 3900.09 KB; Peak: 3918.28 KB\n"
          ]
        }
      ],
      "source": [
        "\n",
        "# Q16 Memory profiling with tracemalloc\n",
        "import tracemalloc\n",
        "tracemalloc.start()\n",
        "big_list = [i for i in range(100000)]\n",
        "current, peak = tracemalloc.get_traced_memory()\n",
        "print(f\"Current memory usage: {current / 1024:.2f} KB; Peak: {peak / 1024:.2f} KB\")\n",
        "tracemalloc.stop()\n",
        "del big_list\n"
      ]
    },
    {
      "cell_type": "code",
      "execution_count": 18,
      "id": "f13f1736",
      "metadata": {
        "colab": {
          "base_uri": "https://localhost:8080/"
        },
        "id": "f13f1736",
        "outputId": "73498bb2-9a6b-4753-8834-ff618e9e3c17"
      },
      "outputs": [
        {
          "output_type": "stream",
          "name": "stdout",
          "text": [
            "Wrote numbers to numbers.txt. Preview:\n",
            "1\n",
            "2\n",
            "3\n",
            "4\n",
            "5\n"
          ]
        }
      ],
      "source": [
        "\n",
        "# Q17 Write a list of numbers to a file, one per line\n",
        "numbers = list(range(1, 11))\n",
        "with open(\"numbers.txt\", \"w\") as f:\n",
        "    for n in numbers:\n",
        "        f.write(f\"{n}\\n\")\n",
        "print(\"Wrote numbers to numbers.txt. Preview:\")\n",
        "with open(\"numbers.txt\", \"r\") as f:\n",
        "    for _ in range(5):\n",
        "        print(f.readline().strip())\n"
      ]
    },
    {
      "cell_type": "code",
      "execution_count": 19,
      "id": "1f580211",
      "metadata": {
        "colab": {
          "base_uri": "https://localhost:8080/"
        },
        "id": "1f580211",
        "outputId": "3f8b85cb-3160-4c9f-9a3f-1c8ed86de05d"
      },
      "outputs": [
        {
          "output_type": "stream",
          "name": "stderr",
          "text": [
            "INFO:rotating_logger:This is a log message in rotating.log (rotation size set to 1MB)\n"
          ]
        },
        {
          "output_type": "stream",
          "name": "stdout",
          "text": [
            "Wrote rotating log entry to rotating.log\n",
            "2025-10-14 17:42:34,114 - INFO - This is a log message in rotating.log (rotation size set to 1MB)\n",
            "\n"
          ]
        }
      ],
      "source": [
        "\n",
        "# Q18 Logging with rotation after 1MB\n",
        "from logging.handlers import RotatingFileHandler\n",
        "rot_logger = logging.getLogger(\"rotating_logger\")\n",
        "rot_logger.setLevel(logging.INFO)\n",
        "rh = RotatingFileHandler(\"rotating.log\", maxBytes=1_000_000, backupCount=3)\n",
        "rh.setFormatter(fmt)\n",
        "rot_logger.addHandler(rh)\n",
        "\n",
        "rot_logger.info(\"This is a log message in rotating.log (rotation size set to 1MB)\")\n",
        "print(\"Wrote rotating log entry to rotating.log\")\n",
        "with open(\"rotating.log\", \"r\") as f:\n",
        "    print(f.read())\n"
      ]
    },
    {
      "cell_type": "code",
      "execution_count": 20,
      "id": "7795b7db",
      "metadata": {
        "colab": {
          "base_uri": "https://localhost:8080/"
        },
        "id": "7795b7db",
        "outputId": "8f999b00-a452-407e-a08b-459735fc0efc"
      },
      "outputs": [
        {
          "output_type": "stream",
          "name": "stdout",
          "text": [
            "Handled IndexError: list index out of range\n"
          ]
        }
      ],
      "source": [
        "\n",
        "# Q19 Handle IndexError and KeyError\n",
        "data = {\"k\": [1,2,3]}\n",
        "try:\n",
        "    print(data[\"k\"][5])\n",
        "except IndexError as e:\n",
        "    print(\"Handled IndexError:\", e)\n",
        "except KeyError as e:\n",
        "    print(\"Handled KeyError:\", e)\n"
      ]
    },
    {
      "cell_type": "code",
      "execution_count": 21,
      "id": "941cb78c",
      "metadata": {
        "colab": {
          "base_uri": "https://localhost:8080/"
        },
        "id": "941cb78c",
        "outputId": "26ac6198-53e8-41dc-84bc-bf9c360bc336"
      },
      "outputs": [
        {
          "output_type": "stream",
          "name": "stdout",
          "text": [
            "Read using context manager. Length: 81\n"
          ]
        }
      ],
      "source": [
        "\n",
        "# Q20 Use context manager to read file\n",
        "with open(\"practical_sample.txt\", \"r\") as f:\n",
        "    content = f.read()\n",
        "print(\"Read using context manager. Length:\", len(content))\n"
      ]
    },
    {
      "cell_type": "code",
      "execution_count": 22,
      "id": "cb2e6975",
      "metadata": {
        "colab": {
          "base_uri": "https://localhost:8080/"
        },
        "id": "cb2e6975",
        "outputId": "fd0a0a5b-421a-418a-84ef-5d2eaa96d536"
      },
      "outputs": [
        {
          "output_type": "stream",
          "name": "stdout",
          "text": [
            "Occurrences of 'sample': 1\n"
          ]
        }
      ],
      "source": [
        "\n",
        "# Q21 Count occurrences of a specific word in a file\n",
        "word = \"sample\"\n",
        "count = 0\n",
        "with open(\"practical_sample.txt\", \"r\") as f:\n",
        "    for line in f:\n",
        "        count += line.lower().count(word.lower())\n",
        "print(f\"Occurrences of '{word}':\", count)\n"
      ]
    },
    {
      "cell_type": "code",
      "execution_count": 23,
      "id": "ecb8b637",
      "metadata": {
        "colab": {
          "base_uri": "https://localhost:8080/"
        },
        "id": "ecb8b637",
        "outputId": "b2fdd8d2-41a5-4a4b-917e-45f3d28054f4"
      },
      "outputs": [
        {
          "output_type": "stream",
          "name": "stdout",
          "text": [
            "practical_sample.txt is not empty (size bytes): 81\n"
          ]
        }
      ],
      "source": [
        "\n",
        "# Q22 Check if file is empty\n",
        "p = Path(\"practical_sample.txt\")\n",
        "if p.exists() and p.stat().st_size == 0:\n",
        "    print(\"practical_sample.txt is empty\")\n",
        "else:\n",
        "    print(\"practical_sample.txt is not empty (size bytes):\", p.stat().st_size)\n"
      ]
    },
    {
      "cell_type": "code",
      "execution_count": 25,
      "id": "e9ab9e9c",
      "metadata": {
        "colab": {
          "base_uri": "https://localhost:8080/"
        },
        "id": "e9ab9e9c",
        "outputId": "6898ae29-a375-409d-d023-f4d3a92857f3"
      },
      "outputs": [
        {
          "output_type": "stream",
          "name": "stderr",
          "text": [
            "ERROR:root:Failed during file handling: [Errno 2] No such file or directory: 'non_existent_or_forbidden_file.txt'\n",
            "Traceback (most recent call last):\n",
            "  File \"/tmp/ipython-input-2193100461.py\", line 13, in <cell line: 0>\n",
            "    with open(\"non_existent_or_forbidden_file.txt\", \"r\") as f:\n",
            "         ^^^^^^^^^^^^^^^^^^^^^^^^^^^^^^^^^^^^^^^^^^^^^^^\n",
            "FileNotFoundError: [Errno 2] No such file or directory: 'non_existent_or_forbidden_file.txt'\n"
          ]
        },
        {
          "output_type": "stream",
          "name": "stdout",
          "text": [
            "Logged exception to practical_errors.log (traceback included).\n",
            "No log file found!\n"
          ]
        }
      ],
      "source": [
        "# Q23 Fixed version: Log an error when file handling fails\n",
        "import logging, os, time\n",
        "\n",
        "# define a guaranteed existing log file path\n",
        "log_file = \"practical_errors.log\"\n",
        "\n",
        "# configure logging to always create the file if missing\n",
        "logging.basicConfig(filename=log_file, level=logging.ERROR,\n",
        "                    format=\"%(asctime)s - %(levelname)s - %(message)s\")\n",
        "\n",
        "try:\n",
        "    # Simulate a file error (use a guaranteed invalid file name instead of /root/)\n",
        "    with open(\"non_existent_or_forbidden_file.txt\", \"r\") as f:\n",
        "        _ = f.read()\n",
        "except Exception as e:\n",
        "    logging.exception(\"Failed during file handling: %s\", e)\n",
        "    print(\"Logged exception to practical_errors.log (traceback included).\")\n",
        "\n",
        "# Ensure logs are flushed and file exists\n",
        "for handler in logging.getLogger().handlers:\n",
        "    handler.flush()\n",
        "\n",
        "time.sleep(0.2)  # short wait to ensure file write completion\n",
        "\n",
        "# Now safely show log contents\n",
        "if os.path.exists(log_file):\n",
        "    with open(log_file, \"r\") as lf:\n",
        "        print(\"---- Log contents ----\")\n",
        "        print(lf.read())\n",
        "else:\n",
        "    print(\"No log file found!\")\n"
      ]
    }
  ],
  "metadata": {
    "colab": {
      "provenance": []
    },
    "language_info": {
      "name": "python"
    },
    "kernelspec": {
      "name": "python3",
      "display_name": "Python 3"
    }
  },
  "nbformat": 4,
  "nbformat_minor": 5
}